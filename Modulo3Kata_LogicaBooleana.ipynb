{
 "cells": [
  {
   "cell_type": "code",
   "execution_count": null,
   "metadata": {},
   "outputs": [],
   "source": [
    "##Problema 1: Asteroide (declaraciones condicionales if, else, elif)\n",
    "\n",
    "VelAsteroide = 49\n",
    "if VelAsteroide >= 25:\n",
    "    print(\"Está pasando un asteroide a una velocidad muy peligrosa, cuídate pls!\")\n",
    "else:\n",
    "    print(\"No hay de que preocuparse!\")\n",
    "     "
   ]
  },
  {
   "cell_type": "code",
   "execution_count": null,
   "metadata": {},
   "outputs": [],
   "source": [
    "##Problema 2: Asteroide (declaraciones condicionales if, else, elif)\n",
    "\n",
    "VelAsteroide = 19\n",
    "if VelAsteroide > 20:\n",
    "    print(\"Está pasando un asteroide, mira la luz en el cielo!\")\n",
    "elif VelAsteroide == 20:\n",
    "    print(\"Está pasando un asteroide, mira la luz en el cielo!\") \n",
    "else:\n",
    "    print(\"No hay nada para ver!\")"
   ]
  },
  {
   "cell_type": "code",
   "execution_count": null,
   "metadata": {},
   "outputs": [],
   "source": [
    "##Problema 3: Asteroide (declaraciones condicionales if, else, elif más AND y OR)\n",
    "\n",
    "VelAsteroide = 25\n",
    "TamAsteroide = 50\n",
    "if VelAsteroide > 25 and TamAsteroide > 25:\n",
    "    print(\"Peligro, hay un asteroide cerca de la Tierra\")\n",
    "elif VelAsteroide >= 20:\n",
    "    print(\"Va a pasar un asteroide, míralo en el cielo!\")\n",
    "elif TamAsteroide < 25:\n",
    "    print (\"No hay de que preocuparse, el asteroide es pequeño\")\n",
    "else:\n",
    "    print (\"No se preocupen gente de la Tierra\") \n",
    "\n",
    "velocidad_asteroide = 25\n",
    "tamano_asteroide = 40\n",
    "if velocidad_asteroide > 25 and tamano_asteroide > 25:\n",
    "    print('¡Alerta, Un asteroide muy peligroso viene hacia la Tierra!')\n",
    "elif velocidad_asteroide >= 20:\n",
    "    print('Look up! ¡Hay una luz mágica en el cielo!')\n",
    "elif tamano_asteroide < 25:\n",
    "    print('Nada que ver aquí :)')\n",
    "else:\n",
    "    print('Nada que ver aquí :)')\n",
    "\n",
    "\n",
    "\n",
    "\n"
   ]
  }
 ],
 "metadata": {
  "interpreter": {
   "hash": "bfb4883d108fc92ac768439090a2e92bb9a1f760a54beeecfd6762b5dcd70fe3"
  },
  "kernelspec": {
   "display_name": "Python 3.10.1 64-bit",
   "language": "python",
   "name": "python3"
  },
  "language_info": {
   "codemirror_mode": {
    "name": "ipython",
    "version": 3
   },
   "file_extension": ".py",
   "mimetype": "text/x-python",
   "name": "python",
   "nbconvert_exporter": "python",
   "pygments_lexer": "ipython3",
   "version": "3.10.1"
  },
  "orig_nbformat": 4
 },
 "nbformat": 4,
 "nbformat_minor": 2
}
