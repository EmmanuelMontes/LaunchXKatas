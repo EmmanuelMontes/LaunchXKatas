{
 "cells": [
  {
   "cell_type": "markdown",
   "metadata": {},
   "source": [
    "Ejercicio #1"
   ]
  },
  {
   "cell_type": "code",
   "execution_count": 6,
   "metadata": {},
   "outputs": [
    {
     "name": "stdout",
     "output_type": "stream",
     "text": [
      "628949330\n",
      "390577533.93\n"
     ]
    }
   ],
   "source": [
    "#Calculate distance between two planets from distance from sun\n",
    "PlanetEarth = 149597870 #expressed in Km\n",
    "PlanetJupyter = 778547200 #expressed in Km\n",
    "KmDistance = PlanetJupyter - PlanetEarth\n",
    "print(KmDistance)\n",
    "#Convert to kilometers to miles\n",
    "Miles = KmDistance * 0.621\n",
    "print(Miles)"
   ]
  },
  {
   "cell_type": "markdown",
   "metadata": {},
   "source": [
    "Ejercicio #2"
   ]
  },
  {
   "cell_type": "code",
   "execution_count": 20,
   "metadata": {},
   "outputs": [
    {
     "name": "stdout",
     "output_type": "stream",
     "text": [
      "Calculate distance between two planets, write two values pls\n",
      "The distance in km with decimals 134469\n",
      "The distance in km without decimals 134469\n",
      "The distance in miles without decimals 83,505.249\n",
      "The distance in miles without decimals 83505.249\n"
     ]
    }
   ],
   "source": [
    "#Calculate distance between two planets, after convert to miles\n",
    "#Request numeric values\n",
    "print(\"Calculate distance between two planets, write two values pls\")\n",
    "firstStar = input(\"The first value is: \")\n",
    "secondStar = input(\"The second value is: \")\n",
    "firstStar = int(firstStar)\n",
    "secondStar = int(secondStar)\n",
    "#Calculate distance in kilometers\n",
    "KmDistance = firstStar - secondStar\n",
    "#Show distance, first decimals after in absolute values\n",
    "print(\"The distance in km with decimals\", KmDistance)\n",
    "print(\"The distance in km without decimals\", (abs(KmDistance)))\n",
    "#Convert to miles\n",
    "Miles = KmDistance * 0.621\n",
    "print(\"The distance in miles without decimals\", '{:,}'.format(Miles))\n",
    "print(\"The distance in miles without decimals\", (abs(Miles)))"
   ]
  }
 ],
 "metadata": {
  "interpreter": {
   "hash": "bfb4883d108fc92ac768439090a2e92bb9a1f760a54beeecfd6762b5dcd70fe3"
  },
  "kernelspec": {
   "display_name": "Python 3.10.1 64-bit",
   "language": "python",
   "name": "python3"
  },
  "language_info": {
   "codemirror_mode": {
    "name": "ipython",
    "version": 3
   },
   "file_extension": ".py",
   "mimetype": "text/x-python",
   "name": "python",
   "nbconvert_exporter": "python",
   "pygments_lexer": "ipython3",
   "version": "3.10.1"
  },
  "orig_nbformat": 4
 },
 "nbformat": 4,
 "nbformat_minor": 2
}
