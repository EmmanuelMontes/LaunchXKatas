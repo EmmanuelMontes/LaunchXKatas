{
 "cells": [
  {
   "cell_type": "markdown",
   "metadata": {},
   "source": [
    "# Ejercicio 1"
   ]
  },
  {
   "cell_type": "code",
   "execution_count": null,
   "metadata": {},
   "outputs": [],
   "source": [
    "# Uso del ciclo -While-\n",
    "#Declarar variables\n",
    "new_planet = ''\n",
    "planets = []\n",
    "\n",
    "while new_planet.lower() != 'done':\n",
    "    # Comprobar existencia de valor en la variable\n",
    "    if new_planet:\n",
    "        # Guardar valor en la lista planets[]\n",
    "        planets.append(new_planet)\n",
    "    # Capturamos un nuevo valor\n",
    "    new_planet = input('Ingresa el nombre de un nuevo planeta, si no escribe done para terminar la captura')\n",
    "    #Mostrar captura\n",
    "    print(planets)\n"
   ]
  },
  {
   "cell_type": "markdown",
   "metadata": {},
   "source": [
    "# Ejercicio 2"
   ]
  },
  {
   "cell_type": "code",
   "execution_count": null,
   "metadata": {},
   "outputs": [],
   "source": [
    "new_planet = ''\n",
    "planets = []\n",
    "\n",
    "while new_planet.lower() != 'done':\n",
    "    # Comprobar existencia de valor en la variable\n",
    "    if new_planet:\n",
    "        # Guardar valor en la lista planets[]\n",
    "        planets.append(new_planet)\n",
    "    # Capturamos un nuevo valor\n",
    "    new_planet = input('Ingresa el nombre de un nuevo planeta, si no escribe done para terminar la captura')\n",
    "    #Mostrar captura\n",
    "    #print(planets)\n",
    "# Uso del Ciclo -For- para recorrer los valores ed la lista planets = []\n",
    "for planet in planets:\n",
    "    print(planets)"
   ]
  }
 ],
 "metadata": {
  "interpreter": {
   "hash": "bfb4883d108fc92ac768439090a2e92bb9a1f760a54beeecfd6762b5dcd70fe3"
  },
  "kernelspec": {
   "display_name": "Python 3.10.1 64-bit",
   "language": "python",
   "name": "python3"
  },
  "language_info": {
   "codemirror_mode": {
    "name": "ipython",
    "version": 3
   },
   "file_extension": ".py",
   "mimetype": "text/x-python",
   "name": "python",
   "nbconvert_exporter": "python",
   "pygments_lexer": "ipython3",
   "version": "3.10.1"
  },
  "orig_nbformat": 4
 },
 "nbformat": 4,
 "nbformat_minor": 2
}
